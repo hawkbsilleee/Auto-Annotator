{
 "cells": [
  {
   "cell_type": "code",
   "execution_count": 34,
   "metadata": {},
   "outputs": [
    {
     "name": "stdout",
     "output_type": "stream",
     "text": [
      "Populating the interactive namespace from numpy and matplotlib\n"
     ]
    },
    {
     "name": "stderr",
     "output_type": "stream",
     "text": [
      "/Library/Frameworks/Python.framework/Versions/3.9/lib/python3.9/site-packages/IPython/core/magics/pylab.py:159: UserWarning: pylab import has clobbered these variables: ['load']\n",
      "`%matplotlib` prevents importing * from pylab and numpy\n",
      "  warn(\"pylab import has clobbered these variables: %s\"  % clobbered +\n"
     ]
    }
   ],
   "source": [
    "import keras\n",
    "import glob\n",
    "import os\n",
    "import xml.etree.ElementTree as ET\n",
    "%pylab inline\n",
    "import matplotlib.pyplot as plt\n",
    "import matplotlib.image as mpimg\n",
    "from PIL import Image\n",
    "from skimage import transform\n",
    "import numpy as np\n",
    "from keras.preprocessing import image\n",
    "from keras.models import load_model\n",
    "import shutil"
   ]
  },
  {
   "cell_type": "code",
   "execution_count": 9,
   "metadata": {},
   "outputs": [],
   "source": [
    "image1 = '/Volumes/My Passport/CNNData/validation_set/croppedImages/num_1_10293193+Dermacentor_variabilis+Augment+RTS_28+life_a+fed.jpg'\n",
    "image3 = '/Volumes/My Passport/CNNData/validation_set/croppedImages/num_1_10316471+Ixodes_scapularis+Augment+RTS_28+life_a+fed.jpg'\n",
    "image4 = '/Volumes/My Passport/CNNData/validation_set/croppedImages/num_1_41227+Ixodes_scapularis+Discard+RTS_+life_unk+feed_unk.jpg' #notick\n",
    "\n",
    "new_model = load_model('/Volumes/My Passport/CNNData/Weights/VGG16_AI_Tick (1).h5')\n",
    "\n",
    "def load(np_image):\n",
    " # np_image = Image.open(filename)\n",
    " np_image = np.array(np_image).astype('float32')/255\n",
    " np_image = transform.resize(np_image, (64,64,3))\n",
    " np_image = np.expand_dims(np_image, axis=0)\n",
    " return np_image\n",
    "\n",
    "def cnnPred(image_path):\n",
    "\n",
    "    image_load = load(image_path)\n",
    "    result = new_model.predict(image_load) \n",
    "    if result[0][0] > 0.5:\n",
    "        return 'no tick'\n",
    "        # prediction = 'no tick'\n",
    "    else:\n",
    "        return 'tick'\n",
    "        # prediction = 'tick'\n",
    "\n",
    "    # img2 = mpimg.imread(image)\n",
    "    # imgplot = plt.imshow(img2)\n",
    "    # plt.show()\n",
    "\n",
    "    # print(prediction)\n"
   ]
  },
  {
   "cell_type": "code",
   "execution_count": 32,
   "metadata": {},
   "outputs": [],
   "source": [
    "def read_content(xml_file: str):\n",
    "\n",
    "    tree = ET.parse(xml_file)\n",
    "    root = tree.getroot()\n",
    "\n",
    "    list_with_all_boxes = []\n",
    "\n",
    "    for boxes in root.iter('object'):\n",
    "\n",
    "        filename = root.find('filename').text\n",
    "\n",
    "        ymin, xmin, ymax, xmax = None, None, None, None\n",
    "\n",
    "        ymin = int(float(boxes.find(\"bndbox/ymin\").text))\n",
    "        xmin = int(float(boxes.find(\"bndbox/xmin\").text))\n",
    "        ymax = int(float(boxes.find(\"bndbox/ymax\").text))\n",
    "        xmax = int(float(boxes.find(\"bndbox/xmax\").text))\n",
    "\n",
    "        list_with_single_boxes = [xmin, ymin, xmax, ymax, filename]\n",
    "        list_with_all_boxes.append(list_with_single_boxes)\n",
    "\n",
    "    return list_with_all_boxes\n",
    "\n",
    "def cropncreateIMG(bnd_list):\n",
    "\n",
    "    predList = []\n",
    "    count = 0\n",
    "\n",
    "    for boxes in bnd_list:\n",
    "\n",
    "        count += 1\n",
    "\n",
    "        xmin = boxes[0]\n",
    "        ymin = boxes[1]\n",
    "        xmax = boxes[2]\n",
    "        ymax = boxes[3]\n",
    "\n",
    "        filename = boxes[4]\n",
    "\n",
    "        filename = filename.removeprefix('/Volumes/My Passport/originalData/') # **********\n",
    "\n",
    "        filepath = \"/Volumes/My Passport/AutoboxTrial/\" + filename \n",
    "\n",
    "        im = Image.open(filepath) \n",
    "        image = im.crop((xmin, ymin, xmax, ymax))\n",
    "        \n",
    "        prediction = cnnPred(image)\n",
    "        predList.append(prediction)\n",
    "\n",
    "    anotherCount = 0\n",
    "    for item in predList:\n",
    "        if item == 'tick':\n",
    "            anotherCount+=1 \n",
    "\n",
    "    if anotherCount == len(predList):\n",
    "        shutil.copy(filepath, \"/Volumes/My Passport/FilteredData/peak/\" + filename)\n",
    "        xmlfilename = filename.removesuffix('.jpg') + '.xml'\n",
    "        shutil.copy(\"/Volumes/My Passport/AutoboxTrial/\" + xmlfilename, \"/Volumes/My Passport/FilteredData/peak/\" + xmlfilename)\n",
    "\n",
    "    # else:\n",
    "        # remove the boundingboxes that are of no tick\n",
    "        # save and move resulting xmlfile and jpgfile \n",
    "\n",
    "\n",
    "\n",
    "        # return image\n",
    "        # image.save(\"/Volumes/My Passport/CNNData/validation_set/croppedImages/\" + \"num_\" + str(count) + \"_\" + filename)\n",
    "\n"
   ]
  },
  {
   "cell_type": "code",
   "execution_count": 36,
   "metadata": {},
   "outputs": [
    {
     "ename": "TypeError",
     "evalue": "expected str, bytes or os.PathLike object, not Image",
     "output_type": "error",
     "traceback": [
      "\u001b[0;31m---------------------------------------------------------------------------\u001b[0m",
      "\u001b[0;31mTypeError\u001b[0m                                 Traceback (most recent call last)",
      "\u001b[0;32m/var/folders/1f/cdbrvc6n3mb2q5k3m0jpgm9c5sjng3/T/ipykernel_50432/1447764044.py\u001b[0m in \u001b[0;36m<module>\u001b[0;34m\u001b[0m\n\u001b[1;32m      5\u001b[0m \u001b[0;34m\u001b[0m\u001b[0m\n\u001b[1;32m      6\u001b[0m \u001b[0mboundingboxList\u001b[0m \u001b[0;34m=\u001b[0m \u001b[0mread_content\u001b[0m\u001b[0;34m(\u001b[0m\u001b[0mtestimg1\u001b[0m\u001b[0;34m)\u001b[0m\u001b[0;34m\u001b[0m\u001b[0;34m\u001b[0m\u001b[0m\n\u001b[0;32m----> 7\u001b[0;31m \u001b[0mreturnImg\u001b[0m \u001b[0;34m=\u001b[0m \u001b[0mcropncreateIMG\u001b[0m\u001b[0;34m(\u001b[0m\u001b[0mboundingboxList\u001b[0m\u001b[0;34m)\u001b[0m\u001b[0;34m\u001b[0m\u001b[0;34m\u001b[0m\u001b[0m\n\u001b[0m\u001b[1;32m      8\u001b[0m \u001b[0mcnnPred\u001b[0m\u001b[0;34m(\u001b[0m\u001b[0mreturnImg\u001b[0m\u001b[0;34m)\u001b[0m\u001b[0;34m\u001b[0m\u001b[0;34m\u001b[0m\u001b[0m\n",
      "\u001b[0;32m/var/folders/1f/cdbrvc6n3mb2q5k3m0jpgm9c5sjng3/T/ipykernel_50432/644795447.py\u001b[0m in \u001b[0;36mcropncreateIMG\u001b[0;34m(bnd_list)\u001b[0m\n\u001b[1;32m     45\u001b[0m         \u001b[0mimage\u001b[0m \u001b[0;34m=\u001b[0m \u001b[0mim\u001b[0m\u001b[0;34m.\u001b[0m\u001b[0mcrop\u001b[0m\u001b[0;34m(\u001b[0m\u001b[0;34m(\u001b[0m\u001b[0mxmin\u001b[0m\u001b[0;34m,\u001b[0m \u001b[0mymin\u001b[0m\u001b[0;34m,\u001b[0m \u001b[0mxmax\u001b[0m\u001b[0;34m,\u001b[0m \u001b[0mymax\u001b[0m\u001b[0;34m)\u001b[0m\u001b[0;34m)\u001b[0m\u001b[0;34m\u001b[0m\u001b[0;34m\u001b[0m\u001b[0m\n\u001b[1;32m     46\u001b[0m \u001b[0;34m\u001b[0m\u001b[0m\n\u001b[0;32m---> 47\u001b[0;31m         \u001b[0mprediction\u001b[0m \u001b[0;34m=\u001b[0m \u001b[0mcnnPred\u001b[0m\u001b[0;34m(\u001b[0m\u001b[0mimage\u001b[0m\u001b[0;34m)\u001b[0m\u001b[0;34m\u001b[0m\u001b[0;34m\u001b[0m\u001b[0m\n\u001b[0m\u001b[1;32m     48\u001b[0m         \u001b[0mpredList\u001b[0m\u001b[0;34m.\u001b[0m\u001b[0mappend\u001b[0m\u001b[0;34m(\u001b[0m\u001b[0mprediction\u001b[0m\u001b[0;34m)\u001b[0m\u001b[0;34m\u001b[0m\u001b[0;34m\u001b[0m\u001b[0m\n\u001b[1;32m     49\u001b[0m \u001b[0;34m\u001b[0m\u001b[0m\n",
      "\u001b[0;32m/var/folders/1f/cdbrvc6n3mb2q5k3m0jpgm9c5sjng3/T/ipykernel_50432/4258929043.py\u001b[0m in \u001b[0;36mcnnPred\u001b[0;34m(image_path)\u001b[0m\n\u001b[1;32m     14\u001b[0m \u001b[0;32mdef\u001b[0m \u001b[0mcnnPred\u001b[0m\u001b[0;34m(\u001b[0m\u001b[0mimage_path\u001b[0m\u001b[0;34m)\u001b[0m\u001b[0;34m:\u001b[0m\u001b[0;34m\u001b[0m\u001b[0;34m\u001b[0m\u001b[0m\n\u001b[1;32m     15\u001b[0m \u001b[0;34m\u001b[0m\u001b[0m\n\u001b[0;32m---> 16\u001b[0;31m     \u001b[0mimage_load\u001b[0m \u001b[0;34m=\u001b[0m \u001b[0mload\u001b[0m\u001b[0;34m(\u001b[0m\u001b[0mimage_path\u001b[0m\u001b[0;34m)\u001b[0m\u001b[0;34m\u001b[0m\u001b[0;34m\u001b[0m\u001b[0m\n\u001b[0m\u001b[1;32m     17\u001b[0m     \u001b[0mresult\u001b[0m \u001b[0;34m=\u001b[0m \u001b[0mnew_model\u001b[0m\u001b[0;34m.\u001b[0m\u001b[0mpredict\u001b[0m\u001b[0;34m(\u001b[0m\u001b[0mimage_load\u001b[0m\u001b[0;34m)\u001b[0m\u001b[0;34m\u001b[0m\u001b[0;34m\u001b[0m\u001b[0m\n\u001b[1;32m     18\u001b[0m     \u001b[0;32mif\u001b[0m \u001b[0mresult\u001b[0m\u001b[0;34m[\u001b[0m\u001b[0;36m0\u001b[0m\u001b[0;34m]\u001b[0m\u001b[0;34m[\u001b[0m\u001b[0;36m0\u001b[0m\u001b[0;34m]\u001b[0m \u001b[0;34m>\u001b[0m \u001b[0;36m0.5\u001b[0m\u001b[0;34m:\u001b[0m\u001b[0;34m\u001b[0m\u001b[0;34m\u001b[0m\u001b[0m\n",
      "\u001b[0;32m/Library/Frameworks/Python.framework/Versions/3.9/lib/python3.9/site-packages/numpy/lib/npyio.py\u001b[0m in \u001b[0;36mload\u001b[0;34m(file, mmap_mode, allow_pickle, fix_imports, encoding)\u001b[0m\n\u001b[1;32m    388\u001b[0m             \u001b[0mown_fid\u001b[0m \u001b[0;34m=\u001b[0m \u001b[0;32mFalse\u001b[0m\u001b[0;34m\u001b[0m\u001b[0;34m\u001b[0m\u001b[0m\n\u001b[1;32m    389\u001b[0m         \u001b[0;32melse\u001b[0m\u001b[0;34m:\u001b[0m\u001b[0;34m\u001b[0m\u001b[0;34m\u001b[0m\u001b[0m\n\u001b[0;32m--> 390\u001b[0;31m             \u001b[0mfid\u001b[0m \u001b[0;34m=\u001b[0m \u001b[0mstack\u001b[0m\u001b[0;34m.\u001b[0m\u001b[0menter_context\u001b[0m\u001b[0;34m(\u001b[0m\u001b[0mopen\u001b[0m\u001b[0;34m(\u001b[0m\u001b[0mos_fspath\u001b[0m\u001b[0;34m(\u001b[0m\u001b[0mfile\u001b[0m\u001b[0;34m)\u001b[0m\u001b[0;34m,\u001b[0m \u001b[0;34m\"rb\"\u001b[0m\u001b[0;34m)\u001b[0m\u001b[0;34m)\u001b[0m\u001b[0;34m\u001b[0m\u001b[0;34m\u001b[0m\u001b[0m\n\u001b[0m\u001b[1;32m    391\u001b[0m             \u001b[0mown_fid\u001b[0m \u001b[0;34m=\u001b[0m \u001b[0;32mTrue\u001b[0m\u001b[0;34m\u001b[0m\u001b[0;34m\u001b[0m\u001b[0m\n\u001b[1;32m    392\u001b[0m \u001b[0;34m\u001b[0m\u001b[0m\n",
      "\u001b[0;31mTypeError\u001b[0m: expected str, bytes or os.PathLike object, not Image"
     ]
    }
   ],
   "source": [
    "img1 = \"/Volumes/My Passport/CNNData/validation_set/10094333+Amblyomma_americanum+Discard+RTS_50+life_unk+feed_unk.xml\"\n",
    "img2 = \"/Volumes/My Passport/CNNData/validation_set/41227+Ixodes_scapularis+Discard+RTS_+life_unk+feed_unk.xml\"\n",
    "\n",
    "testimg1 = \"/Volumes/My Passport/AutoboxTrial/10094333+Amblyomma_americanum+Discard+RTS_50+life_unk+feed_unk.xml\"\n",
    "\n",
    "boundingboxList = read_content(testimg1)\n",
    "returnImg = cropncreateIMG(boundingboxList)\n",
    "cnnPred(returnImg)"
   ]
  },
  {
   "cell_type": "code",
   "execution_count": null,
   "metadata": {},
   "outputs": [],
   "source": [
    "folder = '/Volumes/My Passport/AutoboxTrial'\n",
    "for xmlfile in glob.iglob(os.path.join(folder, \"*.xml\")):\n",
    "    \n",
    "    \n",
    "    "
   ]
  }
 ],
 "metadata": {
  "kernelspec": {
   "display_name": "Python 3.9.4 64-bit",
   "language": "python",
   "name": "python3"
  },
  "language_info": {
   "codemirror_mode": {
    "name": "ipython",
    "version": 3
   },
   "file_extension": ".py",
   "mimetype": "text/x-python",
   "name": "python",
   "nbconvert_exporter": "python",
   "pygments_lexer": "ipython3",
   "version": "3.9.4"
  },
  "orig_nbformat": 4,
  "vscode": {
   "interpreter": {
    "hash": "397704579725e15f5c7cb49fe5f0341eb7531c82d19f2c29d197e8b64ab5776b"
   }
  }
 },
 "nbformat": 4,
 "nbformat_minor": 2
}
